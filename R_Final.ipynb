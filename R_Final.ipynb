{
 "cells": [
  {
   "cell_type": "code",
   "execution_count": 57,
   "id": "8fa3b158",
   "metadata": {},
   "outputs": [],
   "source": [
    "import pandas as pd"
   ]
  },
  {
   "cell_type": "code",
   "execution_count": 58,
   "id": "1b1f7629",
   "metadata": {},
   "outputs": [
    {
     "name": "stderr",
     "output_type": "stream",
     "text": [
      "C:\\Users\\ayush\\AppData\\Local\\Temp/ipykernel_30956/2111572487.py:6: SettingWithCopyWarning: \n",
      "A value is trying to be set on a copy of a slice from a DataFrame\n",
      "\n",
      "See the caveats in the documentation: https://pandas.pydata.org/pandas-docs/stable/user_guide/indexing.html#returning-a-view-versus-a-copy\n",
      "  rotten_df['Release Date'][i]=rotten_df['Release Date'][i].replace('2021',str(rotten_df['Year'][i]))\n"
     ]
    }
   ],
   "source": [
    "#Here changing fixing release dates column and removing the dates column\n",
    "#This is fine. So no need to check. We need to merge this df with the imdb df. \n",
    "rotten_df=pd.read_csv(\"new_data.csv\")\n",
    "rotten_df.drop(['Rank'],axis=1,inplace=True)\n",
    "for i in rotten_df.index:\n",
    "    rotten_df['Release Date'][i]=rotten_df['Release Date'][i].replace('2021',str(rotten_df['Year'][i]))\n",
    "rotten_df.drop(['Year'],axis=1,inplace=True)\n",
    "rotten_df.drop_duplicates(subset=['Title'],keep='first',inplace=True)"
   ]
  },
  {
   "cell_type": "code",
   "execution_count": 59,
   "id": "18d09b18",
   "metadata": {},
   "outputs": [
    {
     "name": "stderr",
     "output_type": "stream",
     "text": [
      "C:\\Users\\ayush\\AppData\\Local\\Programs\\Python\\Python310\\lib\\site-packages\\IPython\\core\\interactiveshell.py:3444: DtypeWarning: Columns (7) have mixed types.Specify dtype option on import or set low_memory=False.\n",
      "  exec(code_obj, self.user_global_ns, self.user_ns)\n"
     ]
    }
   ],
   "source": [
    "#rating_imdb is perfectly ok. We just need to match the tconst with the other dataset title_imdb\n",
    "rating_imdb=pd.read_csv(\"rating_imdb.tsv\", sep='\\t')\n",
    "title_imdb=pd.read_csv(\"title_imdb.tsv\",sep='\\t')"
   ]
  },
  {
   "cell_type": "code",
   "execution_count": 60,
   "id": "c5615704",
   "metadata": {},
   "outputs": [],
   "source": [
    "#We are removing the unnecessary fields. I took only the movies for regions for US.\n",
    "#I took the first tconst value if it is repeated. titleID is later on changed to tconst. \n",
    "\n",
    "title_imdb.drop_duplicates(subset=['titleId'],keep='first',inplace=True)\n",
    "title_imdb.drop(['ordering','types','attributes','isOriginalTitle','language'],axis=1,inplace=True)\n",
    "title_imdb = title_imdb.rename({'titleId': 'tconst','title':'Title'}, axis=1)\n",
    "title_imdb = title_imdb[title_imdb['region']=='US']"
   ]
  },
  {
   "cell_type": "code",
   "execution_count": 61,
   "id": "08478caf",
   "metadata": {},
   "outputs": [],
   "source": [
    "final_imdb=rating_imdb.merge(title_imdb, how='inner', on='tconst')"
   ]
  },
  {
   "cell_type": "code",
   "execution_count": 62,
   "id": "e142ad67",
   "metadata": {},
   "outputs": [],
   "source": [
    "final_imdb.sort_values(by=['averageRating'])\n",
    "final_imdb.drop_duplicates(subset=['Title'],keep='last',inplace=True)"
   ]
  },
  {
   "cell_type": "code",
   "execution_count": 63,
   "id": "c542a10b",
   "metadata": {},
   "outputs": [],
   "source": [
    "finals_imdb=rotten_df.merge(final_imdb, how='inner', on='Title')"
   ]
  },
  {
   "cell_type": "code",
   "execution_count": 64,
   "id": "eef35f4f",
   "metadata": {},
   "outputs": [],
   "source": [
    "finals_imdb.to_csv('final_data.csv',index=True)"
   ]
  },
  {
   "cell_type": "code",
   "execution_count": 70,
   "id": "365a6e64",
   "metadata": {},
   "outputs": [],
   "source": [
    "remove_missing = pd.read_csv(\"final_data.csv\")\n",
    "remove_missing[\"Score_Rotten\"] = pd.to_numeric(remove_missing[\"Score_Rotten\"],errors='coerce')\n",
    "remove_missing[\"Score_Audience\"] = pd.to_numeric(remove_missing[\"Score_Audience\"],errors='coerce')"
   ]
  },
  {
   "cell_type": "code",
   "execution_count": 71,
   "id": "03b54651",
   "metadata": {},
   "outputs": [],
   "source": [
    "df = remove_missing.copy()"
   ]
  },
  {
   "cell_type": "code",
   "execution_count": 72,
   "id": "e32d6c2e",
   "metadata": {},
   "outputs": [
    {
     "name": "stderr",
     "output_type": "stream",
     "text": [
      "C:\\Users\\ayush\\AppData\\Local\\Temp/ipykernel_30956/3936405554.py:13: SettingWithCopyWarning: \n",
      "A value is trying to be set on a copy of a slice from a DataFrame\n",
      "\n",
      "See the caveats in the documentation: https://pandas.pydata.org/pandas-docs/stable/user_guide/indexing.html#returning-a-view-versus-a-copy\n",
      "  df['Score_Rotten'][i]=int(sum_/counter_)\n"
     ]
    }
   ],
   "source": [
    "for i in df.index:\n",
    "    counter_=0\n",
    "    sum_=0\n",
    "    if (pd.isna(df['Score_Rotten'][i])==True):\n",
    "        date = df['Release Date'][i][-4:]\n",
    "        for j in df.index:\n",
    "            if (df['Release Date'][j][-4:]==date):\n",
    "                counter_=counter_+1\n",
    "                if (pd.isna(df['Score_Rotten'][j])==True):\n",
    "                    pass\n",
    "                else:\n",
    "                    sum_=sum_+df['Score_Rotten'][j]\n",
    "        df['Score_Rotten'][i]=int(sum_/counter_)"
   ]
  },
  {
   "cell_type": "code",
   "execution_count": 73,
   "id": "aee4a9e4",
   "metadata": {},
   "outputs": [
    {
     "name": "stderr",
     "output_type": "stream",
     "text": [
      "C:\\Users\\ayush\\AppData\\Local\\Temp/ipykernel_30956/600381596.py:13: SettingWithCopyWarning: \n",
      "A value is trying to be set on a copy of a slice from a DataFrame\n",
      "\n",
      "See the caveats in the documentation: https://pandas.pydata.org/pandas-docs/stable/user_guide/indexing.html#returning-a-view-versus-a-copy\n",
      "  df['Score_Audience'][i]=int(sum_/counter_)\n"
     ]
    }
   ],
   "source": [
    "for i in df.index:\n",
    "    counter_=0\n",
    "    sum_=0\n",
    "    if (pd.isna(df['Score_Audience'][i])==True):\n",
    "        date = df['Release Date'][i][-4:]\n",
    "        for j in df.index:\n",
    "            if (df['Release Date'][j][-4:]==date):\n",
    "                counter_=counter_+1\n",
    "                if (pd.isna(df['Score_Audience'][j])==True):\n",
    "                    pass\n",
    "                else:\n",
    "                    sum_=sum_+df['Score_Audience'][j]\n",
    "        df['Score_Audience'][i]=int(sum_/counter_)"
   ]
  },
  {
   "cell_type": "code",
   "execution_count": 74,
   "id": "db7beb23",
   "metadata": {},
   "outputs": [],
   "source": [
    "df.to_csv('last_final_data.csv',index=True)"
   ]
  },
  {
   "cell_type": "code",
   "execution_count": null,
   "id": "2b6e361d",
   "metadata": {},
   "outputs": [],
   "source": []
  }
 ],
 "metadata": {
  "kernelspec": {
   "display_name": "Python 3 (ipykernel)",
   "language": "python",
   "name": "python3"
  },
  "language_info": {
   "codemirror_mode": {
    "name": "ipython",
    "version": 3
   },
   "file_extension": ".py",
   "mimetype": "text/x-python",
   "name": "python",
   "nbconvert_exporter": "python",
   "pygments_lexer": "ipython3",
   "version": "3.10.0"
  }
 },
 "nbformat": 4,
 "nbformat_minor": 5
}
